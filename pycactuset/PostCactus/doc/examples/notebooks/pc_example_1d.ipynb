{
 "cells": [
  {
   "cell_type": "markdown",
   "metadata": {},
   "source": [
    "# Accessing 1D slices"
   ]
  },
  {
   "cell_type": "markdown",
   "metadata": {},
   "source": [
    "Some boilerplate code"
   ]
  },
  {
   "cell_type": "code",
   "execution_count": 1,
   "metadata": {
    "collapsed": true
   },
   "outputs": [],
   "source": [
    "import numpy as np\n",
    "from postcactus.simdir import SimDir\n",
    "%matplotlib inline\n",
    "import matplotlib.pyplot as plt"
   ]
  },
  {
   "cell_type": "markdown",
   "metadata": {},
   "source": [
    "For working with grid data, we need another module"
   ]
  },
  {
   "cell_type": "code",
   "execution_count": 8,
   "metadata": {
    "collapsed": true
   },
   "outputs": [],
   "source": [
    "from postcactus import grid_data as gd"
   ]
  },
  {
   "cell_type": "markdown",
   "metadata": {},
   "source": [
    "Get object representing simulation data"
   ]
  },
  {
   "cell_type": "code",
   "execution_count": 2,
   "metadata": {
    "collapsed": true
   },
   "outputs": [],
   "source": [
    "example_data = \"~/bns_minimal_example\"\n",
    "sd = SimDir(example_data)"
   ]
  },
  {
   "cell_type": "markdown",
   "metadata": {},
   "source": [
    "1D grid data accessed via sd.grid.x"
   ]
  },
  {
   "cell_type": "code",
   "execution_count": 3,
   "metadata": {},
   "outputs": [
    {
     "name": "stdout",
     "output_type": "stream",
     "text": [
      "\n",
      "Available grid data of dimension (0,) (including cuts): \n",
      "['polar_coords_old', 'merger_xy', 'hmns_moments_old', 'hmns_moments', 'merger_xy_v2', 'polar_coords', 'grid_export_29ms_disk160km_remap', 'merger', 'merger_xy_t13_15', 'merger_xy_t7_9', 'merger_xy_disk', 'grid_export_29ms_disk80km_remap', 'merger_xy_v3', 'grid_export_29ms_remnant_transf_WRONG', 'rho', 'grid_export_29ms_remnant_remap']\n",
      "\n"
     ]
    }
   ],
   "source": [
    "print sd.grid.x"
   ]
  },
  {
   "cell_type": "markdown",
   "metadata": {},
   "source": [
    "Available iterations for density:"
   ]
  },
  {
   "cell_type": "code",
   "execution_count": 5,
   "metadata": {
    "scrolled": true
   },
   "outputs": [
    {
     "data": {
      "text/plain": [
       "array([     0,    256,    512,    768,   1024,   1280,   1536,   1792,\n",
       "         2048,   2304,   2560,   2816,   3072,   3328,   3584,   3840,\n",
       "         4096,   4352,   4608,   4864,   5120,   5376,   5632,   5888,\n",
       "         6144,   6400,   6656,   6912,   7168,   7424,   7680,   7936,\n",
       "         8192,   8448,   8704,   8960,   9216,   9472,   9728,   9984,\n",
       "        10240,  10496,  10752,  11008,  11264,  11520,  11776,  12032,\n",
       "        12288,  12544,  12800,  13056,  13312,  13568,  13824,  14080,\n",
       "        14336,  14592,  14848,  15104,  15360,  15616,  15872,  16128,\n",
       "        16384,  16640,  16896,  17152,  17408,  17664,  17920,  18176,\n",
       "        18432,  18688,  18944,  19200,  19456,  19712,  19968,  20224,\n",
       "        20480,  20736,  20992,  21248,  21504,  21760,  22016,  22272,\n",
       "        22528,  22784,  23040,  23296,  23552,  23808,  24064,  24320,\n",
       "        24576,  24832,  25088,  25344,  25600,  25856,  26112,  26368,\n",
       "        26624,  26880,  27136,  27392,  27648,  27904,  28160,  28416,\n",
       "        28672,  28928,  29184,  29440,  29696,  29952,  30208,  30464,\n",
       "        30720,  30976,  31232,  31488,  31744,  32000,  32256,  32512,\n",
       "        32768,  33024,  33280,  33536,  33792,  34048,  34304,  34560,\n",
       "        34816,  35072,  35328,  35584,  35840,  36096,  36352,  36608,\n",
       "        36864,  37120,  37376,  37632,  37888,  38144,  38400,  38656,\n",
       "        38912,  39168,  39424,  39680,  39936,  40192,  40448,  40704,\n",
       "        40960,  41216,  41472,  41728,  41984,  42240,  42496,  42752,\n",
       "        43008,  43264,  43520,  43776,  44032,  44288,  44544,  44800,\n",
       "        45056,  45312,  45568,  45824,  46080,  46336,  46592,  46848,\n",
       "        47104,  47360,  47616,  47872,  48128,  48384,  48640,  48896,\n",
       "        49152,  49408,  49664,  49920,  50176,  50432,  50688,  50944,\n",
       "        51200,  51456,  51712,  51968,  52224,  52480,  52736,  52992,\n",
       "        53248,  53504,  53760,  54016,  54272,  54528,  54784,  55040,\n",
       "        55296,  55552,  55808,  56064,  56320,  56576,  56832,  57088,\n",
       "        57344,  57600,  57856,  58112,  58368,  58624,  58880,  59136,\n",
       "        59392,  59648,  59904,  60160,  60416,  60672,  60928,  61184,\n",
       "        61440,  61696,  61952,  62208,  62464,  62720,  62976,  63232,\n",
       "        63488,  63744,  64000,  64256,  64512,  64768,  65024,  65280,\n",
       "        65536,  65792,  66048,  66304,  66560,  66816,  67072,  67328,\n",
       "        67584,  67840,  68096,  68352,  68608,  68864,  69120,  69376,\n",
       "        69632,  69888,  70144,  70400,  70656,  70912,  71168,  71424,\n",
       "        71680,  71936,  72192,  72448,  72704,  72960,  73216,  73472,\n",
       "        73728,  73984,  74240,  74496,  74752,  75008,  75264,  75520,\n",
       "        75776,  76032,  76288,  76544,  76800,  77056,  77312,  77568,\n",
       "        77824,  78080,  78336,  78592,  78848,  79104,  79360,  79616,\n",
       "        79872,  80128,  80384,  80640,  80896,  81152,  81408,  81664,\n",
       "        81920,  82176,  82432,  82688,  82944,  83200,  83456,  83712,\n",
       "        83968,  84224,  84480,  84736,  84992,  85248,  85504,  85760,\n",
       "        86016,  86272,  86528,  86784,  87040,  87296,  87552,  87808,\n",
       "        88064,  88320,  88576,  88832,  89088,  89344,  89600,  89856,\n",
       "        90112,  90368,  90624,  90880,  91136,  91392,  91648,  91904,\n",
       "        92160,  92416,  92672,  92928,  93184,  93440,  93696,  93952,\n",
       "        94208,  94464,  94720,  94976,  95232,  95488,  95744,  96000,\n",
       "        96256,  96512,  96768,  97024,  97280,  97536,  97792,  98048,\n",
       "        98304,  98560,  98816,  99072,  99328,  99584,  99840, 100096,\n",
       "       100352, 100608, 100864, 101120, 101376, 101632, 101888, 102144,\n",
       "       102400, 102656, 102912, 103168, 103424, 103680, 103936, 104192,\n",
       "       104448, 104704, 104960, 105216, 105472, 105728, 105984, 106240,\n",
       "       106496, 106752, 107008, 107264, 107520, 107776, 108032, 108288,\n",
       "       108544, 108800, 109056, 109312, 109568, 109824, 110080, 110336,\n",
       "       110592, 110848, 111104, 111360, 111616, 111872, 112128, 112384,\n",
       "       112640, 112896, 113152, 113408, 113664, 113920, 114176, 114432,\n",
       "       114688, 114944, 115200, 115456, 115712, 115968, 116224, 116480,\n",
       "       116736, 116992, 117248, 117504, 117760, 118016, 118272, 118528,\n",
       "       118784, 119040, 119296, 119552, 119808, 120064, 120320, 120576,\n",
       "       120832, 121088, 121344, 121600, 121856, 122112, 122368, 122624,\n",
       "       122880, 123136, 123392, 123648, 123904, 124160, 124416, 124672,\n",
       "       124928, 125184, 125440, 125696, 125952, 126208, 126464, 126720,\n",
       "       126976, 127232, 127488, 127744, 128000, 128256, 128512, 128768,\n",
       "       129024, 129280, 129536, 129792, 130048, 130304, 130560, 130816,\n",
       "       131072, 131328, 131584, 131840, 132096, 132352, 132608, 132864,\n",
       "       133120, 133376, 133632, 133888, 134144, 134400, 134656, 134912,\n",
       "       135168, 135424, 135680, 135936, 136192, 136448, 136704, 136960,\n",
       "       137216, 137472, 137728, 137984, 138240, 138496, 138752, 139008,\n",
       "       139264, 139520, 139776, 140032, 140288, 140544, 140800, 141056,\n",
       "       141312, 141568, 141824, 142080, 142336, 142592, 142848, 143104,\n",
       "       143360, 143616, 143872, 144128, 144384, 144640, 144896, 145152,\n",
       "       145408, 145664, 145920, 146176, 146432, 146688, 146944, 147200,\n",
       "       147456, 147712, 147968, 148224, 148480, 148736, 148992, 149248,\n",
       "       149504, 149760, 150016, 150272, 150528, 150784, 151040, 151296,\n",
       "       151552, 151808, 152064, 152320, 152576, 152832, 153088, 153344,\n",
       "       153600, 153856, 154112, 154368, 154624, 154880, 155136, 155392,\n",
       "       155648, 155904, 156160, 156416, 156672, 156928, 157184, 157440,\n",
       "       157696, 157952, 158208, 158464, 158720, 158976, 159232, 159488,\n",
       "       159744, 160000, 160256, 160512, 160768, 161024, 161280, 161536,\n",
       "       161792, 162048, 162304, 162560, 162816, 163072, 163328, 163584,\n",
       "       163840, 164096, 164352, 164608, 164864, 165120, 165376, 165632,\n",
       "       165888, 166144, 166400, 166656, 166912, 167168, 167424, 167680,\n",
       "       167936, 168192, 168448, 168704, 168960, 169216, 169472, 169728,\n",
       "       169984, 170240, 170496, 170752, 171008, 171264, 171520, 171776,\n",
       "       172032, 172288, 172544, 172800, 173056, 173312, 173568, 173824,\n",
       "       174080, 174336, 174592, 174848, 175104, 175360, 175616, 175872,\n",
       "       176128, 176384, 176640, 176896, 177152, 177408, 177664, 177920,\n",
       "       178176, 178432, 178688, 178944, 179200, 179456, 179712, 179968,\n",
       "       180224, 180480, 180736, 180992, 181248, 181504, 181760, 182016,\n",
       "       182272, 182528, 182784, 183040, 183296, 183552, 183808, 184064,\n",
       "       184320, 184576, 184832, 185088, 185344, 185600, 185856, 186112,\n",
       "       186368, 186624, 186880, 187136, 187392, 187648, 187904, 188160,\n",
       "       188416, 188672, 188928, 189184, 189440, 189696, 189952, 190208,\n",
       "       190464, 190720, 190976, 191232, 191488, 191744, 192000, 192256,\n",
       "       192512, 192768, 193024, 193280, 193536, 193792, 194048, 194304,\n",
       "       194560, 194816, 195072, 195328, 195584, 195840, 196096, 196352,\n",
       "       196608, 196864, 197120, 197376, 197632, 197888, 198144, 198400,\n",
       "       198656, 198912, 199168, 199424, 199680, 199936, 200192, 200448,\n",
       "       200704, 200960, 201216, 201472, 201728, 201984, 202240, 202496,\n",
       "       202752])"
      ]
     },
     "execution_count": 5,
     "metadata": {},
     "output_type": "execute_result"
    }
   ],
   "source": [
    "sd.grid.x.get_iters('rho')"
   ]
  },
  {
   "cell_type": "code",
   "execution_count": 19,
   "metadata": {},
   "outputs": [],
   "source": [
    "it  = 0\n",
    "rho = sd.grid.x.read('rho', it)"
   ]
  },
  {
   "cell_type": "markdown",
   "metadata": {},
   "source": [
    "For 1D slices, special method for reading mesh-refinement hirachy as irregular spaced 1D grid"
   ]
  },
  {
   "cell_type": "code",
   "execution_count": 9,
   "metadata": {
    "collapsed": true
   },
   "outputs": [],
   "source": [
    "x,rho_x = gd.merge_comp_data_1d(rho)"
   ]
  },
  {
   "cell_type": "code",
   "execution_count": 20,
   "metadata": {},
   "outputs": [
    {
     "data": {
      "text/plain": [
       "(-60, 60)"
      ]
     },
     "execution_count": 20,
     "metadata": {},
     "output_type": "execute_result"
    },
    {
     "data": {
      "image/png": "[encoded data removed]",
      "text/plain": [
       "<matplotlib.figure.Figure at 0x7fe136e2d0d0>"
      ]
     },
     "metadata": {},
     "output_type": "display_data"
    },
    {
     "data": {
      "image/png": "[encoded data removed]",
      "text/plain": [
       "<matplotlib.figure.Figure at 0x7fe136e2d890>"
      ]
     },
     "metadata": {},
     "output_type": "display_data"
    }
   ],
   "source": [
    "plt.plot(x, rho_x, 'k-+')\n",
    "plt.figure()\n",
    "plt.plot(x, rho_x, 'k-+')\n",
    "plt.xlim(-60,60)"
   ]
  },
  {
   "cell_type": "markdown",
   "metadata": {},
   "source": [
    "Can also resample to regular grid while loading:"
   ]
  },
  {
   "cell_type": "code",
   "execution_count": 16,
   "metadata": {},
   "outputs": [],
   "source": [
    "it = 0\n",
    "n_points = 400\n",
    "x0 = -60.0\n",
    "x1 = 60.0\n",
    "g = gd.RegGeom([n_points], [x0], x1=[x1])\n",
    "\n",
    "srho = sd.grid.x.read('rho', it, geom=g, order=2)\n",
    "sx, = srho.coords1d()"
   ]
  },
  {
   "cell_type": "code",
   "execution_count": 18,
   "metadata": {},
   "outputs": [
    {
     "data": {
      "image/png": "[encoded data removed]",
      "text/plain": [
       "<matplotlib.figure.Figure at 0x7fe13390ccd0>"
      ]
     },
     "metadata": {},
     "output_type": "display_data"
    }
   ],
   "source": [
    "plt.plot(sx, srho.data, 'r+');"
   ]
  },
  {
   "cell_type": "code",
   "execution_count": null,
   "metadata": {
    "collapsed": true
   },
   "outputs": [],
   "source": []
  }
 ],
 "metadata": {
  "kernelspec": {
   "display_name": "Python 2",
   "language": "python",
   "name": "python2"
  },
  "language_info": {
   "codemirror_mode": {
    "name": "ipython",
    "version": 2
   },
   "file_extension": ".py",
   "mimetype": "text/x-python",
   "name": "python",
   "nbconvert_exporter": "python",
   "pygments_lexer": "ipython2",
   "version": "2.7.13"
  }
 },
 "nbformat": 4,
 "nbformat_minor": 2
}
